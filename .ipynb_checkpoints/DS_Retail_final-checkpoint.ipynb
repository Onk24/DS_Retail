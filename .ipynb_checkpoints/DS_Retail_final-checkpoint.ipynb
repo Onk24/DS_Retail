{
 "cells": [
  {
   "cell_type": "markdown",
   "metadata": {},
   "source": [
    "# Application of Data Science techniques on a Retail Database "
   ]
  },
  {
   "cell_type": "markdown",
   "metadata": {},
   "source": [
    "###  - by Onkar Suhas Samant"
   ]
  },
  {
   "cell_type": "markdown",
   "metadata": {},
   "source": [
    "## Business Questions\n",
    "1) What items should we club together for giving **promotional combo offers**? <br>\n",
    "2) Which items should we place close to each other for **on-shelf / online placement**? <br>\n",
    "3) On the website, which **items should we suggest** the customers to buy? <br>\n",
    "4) What insights can we draw from the **customer purchase patterns**? <br>\n",
    "5) Which items would be ideal for implementing the **loss-leader pricing** strategy? <br>\n"
   ]
  },
  {
   "cell_type": "markdown",
   "metadata": {},
   "source": [
    "Loss-leader pricing strategy: https://en.wikipedia.org/wiki/Loss_leader"
   ]
  },
  {
   "cell_type": "markdown",
   "metadata": {},
   "source": [
    "## Step by Step Data-driven Solution"
   ]
  },
  {
   "cell_type": "markdown",
   "metadata": {},
   "source": [
    "## 1. Data Information\n",
    "Understanding data and attributes from table schema or table definition"
   ]
  },
  {
   "cell_type": "markdown",
   "metadata": {},
   "source": [
    "Following open-source dataset has been used: \n",
    "https://archive.ics.uci.edu/ml/datasets/Online+Retail <br>\n",
    "The dataset contains transaction data of an online retailer based in the UK for a year. <br>\n",
    "It is made publicly available by the School of Engineering, London South Bank University. \n",
    "It has **541,909 records**. It has the following attributes: <br>\n",
    "&emsp;1) **InvoiceNo** : 6 digit transaction ID <br>\n",
    "&emsp;2) **StockCode**: Product ID <br>\n",
    "&emsp;3) **Description**: Product Description <br>\n",
    "&emsp;4) **Quantity**: Counts of the product purchased <br>\n",
    "&emsp;5) **InvoiceDate**: Date and time of transaction<br> \n",
    "&emsp;6) **UnitPrice** Price of 1 item <br>\n",
    "&emsp;7) **CustumerID**: Unique ID for a customer <br>\n",
    "&emsp;8) **Country**: Country where the customer resides <br> "
   ]
  },
  {
   "cell_type": "markdown",
   "metadata": {},
   "source": [
    "## 2. Data Science Project Goal\n",
    "Defining goals from data science perspective to solve the business questions "
   ]
  },
  {
   "cell_type": "markdown",
   "metadata": {},
   "source": [
    "1) Identify frequently bought items i.e. **frequent item-sets** in transaction DB for: <br>\n",
    "&emsp; **a) Purchase Behaviour Analysis**: To get more Insights on customer purchase behavior  <br>\n",
    "&emsp; **b) Product Placement**: Identifying products that may often be purchased together and arranging the placement of those close by to encourage the purchaser to buy both items. This placement can be physical (on-shelf) or virtual (on an e-commerce site). <br>\n",
    "&emsp; **c) Items Suggestions**: for the customer based on the purchase of some other items<br>\n",
    "2) Build **association rules** from the identified frequent item-sets for: <br>\n",
    "&emsp; **a) Promotional Offers**: If product A is often bought with product B, both products can be combined for an ideal promotional combo offer <br>\n",
    "&emsp; **b) Loss leader pricing**: Often a retailer sells one product at a loss which drives sales for another item (from which the profit is recovered). A simple example: A loss on shampoo sale can be recovered from its complementary items like conditioner and hair serum"
   ]
  },
  {
   "cell_type": "markdown",
   "metadata": {},
   "source": [
    "## 3. Algorithms\n",
    "Selecting the most appropirate algorithms for the tasks"
   ]
  },
  {
   "cell_type": "markdown",
   "metadata": {},
   "source": [
    "**Frequent item-set** mining using following algorithms: <br>\n",
    "&emsp;1) Apriori <br> \n",
    "&emsp;2) FP-Growth <br> \n",
    "**Association Rule Mining** on the frequent item-sets<Br>\n",
    "\n",
    "Links for studying both the algorithms: <br>\n",
    "Apriori: https://en.wikipedia.org/wiki/Apriori_algorithm <br>\n",
    "FPGrowth: https://en.wikibooks.org/wiki/Data_Mining_Algorithms_In_R/Frequent_Pattern_Mining/The_FP-Growth_Algorithm"
   ]
  },
  {
   "cell_type": "markdown",
   "metadata": {},
   "source": [
    "**Reason for selecting these algorithms**: <br>\n",
    "&emsp; 1) Both algorithms are more efficient than *Brute force counting* of frequent itemsets in terms of time complexity and thus can be scaled for a large retail transaction DB<br>\n",
    "&emsp; 2) In both Apriori and FP-Growth, candidate item-set generation is optimal."
   ]
  },
  {
   "cell_type": "markdown",
   "metadata": {},
   "source": [
    "## 4. A Deep Dive Into Data\n",
    "Any Data Science work is as good as it's data. Let's get an **in-depth understanding of our data** before we proceed with the imlemetation of algorithms for our tasks"
   ]
  },
  {
   "cell_type": "code",
   "execution_count": 1,
   "metadata": {},
   "outputs": [],
   "source": [
    "#Importing useful libraries for data analysis using data frames and visualization libraries\n",
    "import pandas as pd\n",
    "import numpy as np\n",
    "import matplotlib.pyplot as plt\n",
    "import seaborn as sns"
   ]
  },
  {
   "cell_type": "code",
   "execution_count": 2,
   "metadata": {},
   "outputs": [
    {
     "data": {
      "text/html": [
       "<div>\n",
       "<style scoped>\n",
       "    .dataframe tbody tr th:only-of-type {\n",
       "        vertical-align: middle;\n",
       "    }\n",
       "\n",
       "    .dataframe tbody tr th {\n",
       "        vertical-align: top;\n",
       "    }\n",
       "\n",
       "    .dataframe thead th {\n",
       "        text-align: right;\n",
       "    }\n",
       "</style>\n",
       "<table border=\"1\" class=\"dataframe\">\n",
       "  <thead>\n",
       "    <tr style=\"text-align: right;\">\n",
       "      <th></th>\n",
       "      <th>InvoiceNo</th>\n",
       "      <th>StockCode</th>\n",
       "      <th>Description</th>\n",
       "      <th>Quantity</th>\n",
       "      <th>InvoiceDate</th>\n",
       "      <th>UnitPrice</th>\n",
       "      <th>CustomerID</th>\n",
       "      <th>Country</th>\n",
       "    </tr>\n",
       "  </thead>\n",
       "  <tbody>\n",
       "    <tr>\n",
       "      <th>0</th>\n",
       "      <td>536365</td>\n",
       "      <td>85123A</td>\n",
       "      <td>WHITE HANGING HEART T-LIGHT HOLDER</td>\n",
       "      <td>6</td>\n",
       "      <td>2010-12-01 08:26:00</td>\n",
       "      <td>2.55</td>\n",
       "      <td>17850.0</td>\n",
       "      <td>United Kingdom</td>\n",
       "    </tr>\n",
       "    <tr>\n",
       "      <th>1</th>\n",
       "      <td>536365</td>\n",
       "      <td>71053</td>\n",
       "      <td>WHITE METAL LANTERN</td>\n",
       "      <td>6</td>\n",
       "      <td>2010-12-01 08:26:00</td>\n",
       "      <td>3.39</td>\n",
       "      <td>17850.0</td>\n",
       "      <td>United Kingdom</td>\n",
       "    </tr>\n",
       "    <tr>\n",
       "      <th>2</th>\n",
       "      <td>536365</td>\n",
       "      <td>84406B</td>\n",
       "      <td>CREAM CUPID HEARTS COAT HANGER</td>\n",
       "      <td>8</td>\n",
       "      <td>2010-12-01 08:26:00</td>\n",
       "      <td>2.75</td>\n",
       "      <td>17850.0</td>\n",
       "      <td>United Kingdom</td>\n",
       "    </tr>\n",
       "    <tr>\n",
       "      <th>3</th>\n",
       "      <td>536365</td>\n",
       "      <td>84029G</td>\n",
       "      <td>KNITTED UNION FLAG HOT WATER BOTTLE</td>\n",
       "      <td>6</td>\n",
       "      <td>2010-12-01 08:26:00</td>\n",
       "      <td>3.39</td>\n",
       "      <td>17850.0</td>\n",
       "      <td>United Kingdom</td>\n",
       "    </tr>\n",
       "    <tr>\n",
       "      <th>4</th>\n",
       "      <td>536365</td>\n",
       "      <td>84029E</td>\n",
       "      <td>RED WOOLLY HOTTIE WHITE HEART.</td>\n",
       "      <td>6</td>\n",
       "      <td>2010-12-01 08:26:00</td>\n",
       "      <td>3.39</td>\n",
       "      <td>17850.0</td>\n",
       "      <td>United Kingdom</td>\n",
       "    </tr>\n",
       "  </tbody>\n",
       "</table>\n",
       "</div>"
      ],
      "text/plain": [
       "  InvoiceNo StockCode                          Description  Quantity  \\\n",
       "0    536365    85123A   WHITE HANGING HEART T-LIGHT HOLDER         6   \n",
       "1    536365     71053                  WHITE METAL LANTERN         6   \n",
       "2    536365    84406B       CREAM CUPID HEARTS COAT HANGER         8   \n",
       "3    536365    84029G  KNITTED UNION FLAG HOT WATER BOTTLE         6   \n",
       "4    536365    84029E       RED WOOLLY HOTTIE WHITE HEART.         6   \n",
       "\n",
       "          InvoiceDate  UnitPrice  CustomerID         Country  \n",
       "0 2010-12-01 08:26:00       2.55     17850.0  United Kingdom  \n",
       "1 2010-12-01 08:26:00       3.39     17850.0  United Kingdom  \n",
       "2 2010-12-01 08:26:00       2.75     17850.0  United Kingdom  \n",
       "3 2010-12-01 08:26:00       3.39     17850.0  United Kingdom  \n",
       "4 2010-12-01 08:26:00       3.39     17850.0  United Kingdom  "
      ]
     },
     "execution_count": 2,
     "metadata": {},
     "output_type": "execute_result"
    }
   ],
   "source": [
    "#importing data and priting first few transactions\n",
    "online_retail  = pd.read_excel(\"Online Retail.xlsx\")\n",
    "online_retail.head()"
   ]
  },
  {
   "cell_type": "markdown",
   "metadata": {},
   "source": [
    "### 4a) Analysis of the raw data and basic data cleaning"
   ]
  },
  {
   "cell_type": "code",
   "execution_count": 3,
   "metadata": {},
   "outputs": [
    {
     "name": "stdout",
     "output_type": "stream",
     "text": [
      "Number of points: 541909\n",
      "Number of dimensions: 8\n"
     ]
    }
   ],
   "source": [
    "print(\"Number of points:\",online_retail.shape[0])\n",
    "print(\"Number of dimensions:\",online_retail.shape[1])"
   ]
  },
  {
   "cell_type": "code",
   "execution_count": 4,
   "metadata": {},
   "outputs": [
    {
     "name": "stdout",
     "output_type": "stream",
     "text": [
      "Total null values in every column\n",
      "InvoiceNo           0\n",
      "StockCode           0\n",
      "Description         0\n",
      "Quantity            0\n",
      "InvoiceDate         0\n",
      "UnitPrice           0\n",
      "CustomerID     131436\n",
      "Country             0\n",
      "dtype: int64\n"
     ]
    }
   ],
   "source": [
    "#We create a copy of our original data for any modidcations (important ot have the original data seperately)\n",
    "retail_df = online_retail.copy()\n",
    "#deleting junk records with qunatities 0 or less than 0 (probably returned items)\n",
    "retail_df[\"Description\"] = retail_df[\"Description\"].astype(str)\n",
    "retail_df[\"StockCode\"] = retail_df[\"StockCode\"].astype(str)\n",
    "retail_df = retail_df[retail_df[\"StockCode\"].str.contains('[0-9]')]\n",
    "retail_df= retail_df[retail_df['UnitPrice']!=0]\n",
    "retail_df= retail_df[retail_df['Quantity']>0]\n",
    "#deleting cancelled records\n",
    "retail_df['InvoiceNo'] = retail_df['InvoiceNo'].astype(str)\n",
    "retail_df = retail_df[~retail_df['InvoiceNo'].str.contains('C')]\n",
    "#checking for null values in columns\n",
    "print(\"Total null values in every column\")\n",
    "print(retail_df.isna().sum())"
   ]
  },
  {
   "cell_type": "markdown",
   "metadata": {},
   "source": [
    "We see there are no customer IDs for a lot of records. These records would most probably be of customers who did not use their identification card while purchasing. However, we can continue to use these records for itemset analysis, but we have to be aware of this if we are to do any customer segmentation exercise. "
   ]
  },
  {
   "cell_type": "code",
   "execution_count": 5,
   "metadata": {},
   "outputs": [
    {
     "data": {
      "text/plain": [
       "InvoiceNo      19776\n",
       "StockCode       3911\n",
       "Description     4016\n",
       "Quantity         374\n",
       "InvoiceDate    18335\n",
       "UnitPrice        502\n",
       "CustomerID      4334\n",
       "Country           38\n",
       "dtype: int64"
      ]
     },
     "execution_count": 5,
     "metadata": {},
     "output_type": "execute_result"
    }
   ],
   "source": [
    "#Check for unique entries in each column\n",
    "retail_df.nunique()"
   ]
  },
  {
   "cell_type": "markdown",
   "metadata": {},
   "source": [
    "We observe the StockCode (Product ID) to Description mapping is not one to one. This is a data quality issue which we have to take into account"
   ]
  },
  {
   "cell_type": "markdown",
   "metadata": {},
   "source": [
    "### 4b) Visualizing the data"
   ]
  },
  {
   "cell_type": "code",
   "execution_count": 6,
   "metadata": {
    "scrolled": false
   },
   "outputs": [
    {
     "data": {
      "image/png": "[encoded data removed]",
      "text/plain": [
       "<Figure size 864x360 with 1 Axes>"
      ]
     },
     "metadata": {
      "needs_background": "light"
     },
     "output_type": "display_data"
    }
   ],
   "source": [
    "trans_by_country = retail_df.groupby(\"Country\")[\"InvoiceNo\"].nunique()\n",
    "trans_by_country5 = trans_by_country.nlargest(5)\n",
    "plt.figure(figsize=(12,5))\n",
    "plt.title('Number of transactions by Country', fontsize = 18)\n",
    "plt.ylabel('Number of transactions', fontsize=15)\n",
    "plt.xlabel('')\n",
    "plt.tick_params(axis='x', which='both', bottom=False,top=False)\n",
    "#plt.xlabel('Country',fontweight='bold', fontsize=12)\n",
    "barlist = plt.bar(trans_by_country5.index, trans_by_country5.values, alpha = 0.6, color = \"b\")\n",
    "barlist[0].set_color('r')\n",
    "x = plt.gca().xaxis\n",
    "#plt.legend(loc=4, frameon=False, title='Legend')\n",
    "# rotate the tick labels for the x axis\n",
    "for item in x.get_ticklabels():\n",
    "    item.set_fontsize(12)\n",
    "    item.set_rotation(45)"
   ]
  },
  {
   "cell_type": "code",
   "execution_count": 7,
   "metadata": {},
   "outputs": [
    {
     "data": {
      "text/plain": [
       "90.52"
      ]
     },
     "execution_count": 7,
     "metadata": {},
     "output_type": "execute_result"
    }
   ],
   "source": [
    "#Percentage of total transaction by customers of UK\n",
    "round(trans_by_country5[0] / sum(trans_by_country) * 100,2)"
   ]
  },
  {
   "cell_type": "markdown",
   "metadata": {},
   "source": [
    "We observe this retailer is UK based hence **most customers are from the UK**, which is around **90.52%** of the total customers"
   ]
  },
  {
   "cell_type": "code",
   "execution_count": 8,
   "metadata": {
    "scrolled": false
   },
   "outputs": [
    {
     "data": {
      "image/png": "[encoded data removed]",
      "text/plain": [
       "<Figure size 864x360 with 1 Axes>"
      ]
     },
     "metadata": {
      "needs_background": "light"
     },
     "output_type": "display_data"
    }
   ],
   "source": [
    "trans_by_product = retail_df.groupby(\"Description\")[\"InvoiceNo\"].nunique()\n",
    "trans_by_product5 = trans_by_product.nlargest(5)\n",
    "#trans_by_country[trans_by_country > 100].plot(kind=\"bar\")\n",
    "plt.figure(figsize=(12,5))\n",
    "plt.title('Top selling items', fontsize = 18)\n",
    "plt.ylabel('Number of transactions', fontsize=15)\n",
    "plt.xlabel('')\n",
    "colors_rgb = np.zeros((5,4))\n",
    "blues = trans_by_product5.values / trans_by_product5.values[0]\n",
    "colors_rgb[:,2] = blues[::-1] #np.linspace(0.6,1,5)\n",
    "#colors_rgb[:,1] = np.linspace(1,0,5)\n",
    "plt.bar(trans_by_product5.index, trans_by_product5.values, alpha = 0.7, color=colors_rgb)\n",
    "plt.tick_params(axis='x', which='both', bottom=False,top=False)\n",
    "x = plt.gca().xaxis\n",
    "for item in x.get_ticklabels():\n",
    "    item.set_rotation(45)\n",
    "plt.show()"
   ]
  },
  {
   "cell_type": "markdown",
   "metadata": {},
   "source": [
    "## Percentage of total transaction by the top 5 highest selling items\n"
   ]
  },
  {
   "cell_type": "code",
   "execution_count": 9,
   "metadata": {},
   "outputs": [
    {
     "name": "stdout",
     "output_type": "stream",
     "text": [
      "Total number of items =  4016\n",
      "Percentage contribution of the top 5 selling items to the total transactions = 1.85%\n"
     ]
    }
   ],
   "source": [
    "print(\"Total number of items = \",trans_by_product.count())\n",
    "print(\"Percentage contribution of the top 5 selling items to the total transactions = \"+str(round((sum(trans_by_product5) / sum(trans_by_product)) * 100,2))+\"%\")"
   ]
  },
  {
   "cell_type": "markdown",
   "metadata": {},
   "source": [
    "We observe that the contribution of the top 5 high selling items is not very significant. However, it gives us a good insight into which items are the main drivers of total sale. "
   ]
  },
  {
   "cell_type": "markdown",
   "metadata": {},
   "source": [
    "## 5. Applying Algorithms"
   ]
  },
  {
   "cell_type": "markdown",
   "metadata": {},
   "source": [
    "**Support**: a metric which indicates how frequent is the item / item-set in the transaction DB"
   ]
  },
  {
   "cell_type": "code",
   "execution_count": 10,
   "metadata": {},
   "outputs": [],
   "source": [
    "#Loading the libraries \n",
    "from mlxtend.frequent_patterns import apriori\n",
    "from mlxtend.frequent_patterns import fpgrowth\n",
    "from mlxtend.preprocessing import TransactionEncoder"
   ]
  },
  {
   "cell_type": "code",
   "execution_count": 11,
   "metadata": {},
   "outputs": [],
   "source": [
    "#Changing format of the dataset to pass to the library Apriori and FPGrowth functions\n",
    "def format_data(original_df):\n",
    "    trans_df = original_df.groupby('InvoiceNo')['Description'].apply(list)\n",
    "    trans_list = trans_df.to_list()\n",
    "    te = TransactionEncoder()\n",
    "    te_ary = te.fit(trans_list).transform(trans_list)\n",
    "    #print(trans_list[0:10])\n",
    "    return pd.DataFrame(te_ary, columns=te.columns_)"
   ]
  },
  {
   "cell_type": "code",
   "execution_count": 12,
   "metadata": {},
   "outputs": [],
   "source": [
    "trans_items_df = format_data(retail_df)"
   ]
  },
  {
   "cell_type": "code",
   "execution_count": 13,
   "metadata": {},
   "outputs": [
    {
     "data": {
      "text/html": [
       "<div>\n",
       "<style scoped>\n",
       "    .dataframe tbody tr th:only-of-type {\n",
       "        vertical-align: middle;\n",
       "    }\n",
       "\n",
       "    .dataframe tbody tr th {\n",
       "        vertical-align: top;\n",
       "    }\n",
       "\n",
       "    .dataframe thead th {\n",
       "        text-align: right;\n",
       "    }\n",
       "</style>\n",
       "<table border=\"1\" class=\"dataframe\">\n",
       "  <thead>\n",
       "    <tr style=\"text-align: right;\">\n",
       "      <th></th>\n",
       "      <th>4 PURPLE FLOCK DINNER CANDLES</th>\n",
       "      <th>50'S CHRISTMAS GIFT BAG LARGE</th>\n",
       "      <th>DOLLY GIRL BEAKER</th>\n",
       "      <th>I LOVE LONDON MINI BACKPACK</th>\n",
       "      <th>I LOVE LONDON MINI RUCKSACK</th>\n",
       "      <th>NINE DRAWER OFFICE TIDY</th>\n",
       "      <th>OVAL WALL MIRROR DIAMANTE</th>\n",
       "      <th>RED SPOT GIFT BAG LARGE</th>\n",
       "      <th>SET 2 TEA TOWELS I LOVE LONDON</th>\n",
       "      <th>SPACEBOY BABY GIFT SET</th>\n",
       "      <th>...</th>\n",
       "      <th>ZINC STAR T-LIGHT HOLDER</th>\n",
       "      <th>ZINC SWEETHEART SOAP DISH</th>\n",
       "      <th>ZINC SWEETHEART WIRE LETTER RACK</th>\n",
       "      <th>ZINC T-LIGHT HOLDER STAR LARGE</th>\n",
       "      <th>ZINC T-LIGHT HOLDER STARS LARGE</th>\n",
       "      <th>ZINC T-LIGHT HOLDER STARS SMALL</th>\n",
       "      <th>ZINC TOP  2 DOOR WOODEN SHELF</th>\n",
       "      <th>ZINC WILLIE WINKIE  CANDLE STICK</th>\n",
       "      <th>ZINC WIRE KITCHEN ORGANISER</th>\n",
       "      <th>ZINC WIRE SWEETHEART LETTER TRAY</th>\n",
       "    </tr>\n",
       "  </thead>\n",
       "  <tbody>\n",
       "    <tr>\n",
       "      <th>0</th>\n",
       "      <td>False</td>\n",
       "      <td>False</td>\n",
       "      <td>False</td>\n",
       "      <td>False</td>\n",
       "      <td>False</td>\n",
       "      <td>False</td>\n",
       "      <td>False</td>\n",
       "      <td>False</td>\n",
       "      <td>False</td>\n",
       "      <td>False</td>\n",
       "      <td>...</td>\n",
       "      <td>False</td>\n",
       "      <td>False</td>\n",
       "      <td>False</td>\n",
       "      <td>False</td>\n",
       "      <td>False</td>\n",
       "      <td>False</td>\n",
       "      <td>False</td>\n",
       "      <td>False</td>\n",
       "      <td>False</td>\n",
       "      <td>False</td>\n",
       "    </tr>\n",
       "    <tr>\n",
       "      <th>1</th>\n",
       "      <td>False</td>\n",
       "      <td>False</td>\n",
       "      <td>False</td>\n",
       "      <td>False</td>\n",
       "      <td>False</td>\n",
       "      <td>False</td>\n",
       "      <td>False</td>\n",
       "      <td>False</td>\n",
       "      <td>False</td>\n",
       "      <td>False</td>\n",
       "      <td>...</td>\n",
       "      <td>False</td>\n",
       "      <td>False</td>\n",
       "      <td>False</td>\n",
       "      <td>False</td>\n",
       "      <td>False</td>\n",
       "      <td>False</td>\n",
       "      <td>False</td>\n",
       "      <td>False</td>\n",
       "      <td>False</td>\n",
       "      <td>False</td>\n",
       "    </tr>\n",
       "    <tr>\n",
       "      <th>2</th>\n",
       "      <td>False</td>\n",
       "      <td>False</td>\n",
       "      <td>False</td>\n",
       "      <td>False</td>\n",
       "      <td>False</td>\n",
       "      <td>False</td>\n",
       "      <td>False</td>\n",
       "      <td>False</td>\n",
       "      <td>False</td>\n",
       "      <td>False</td>\n",
       "      <td>...</td>\n",
       "      <td>False</td>\n",
       "      <td>False</td>\n",
       "      <td>False</td>\n",
       "      <td>False</td>\n",
       "      <td>False</td>\n",
       "      <td>False</td>\n",
       "      <td>False</td>\n",
       "      <td>False</td>\n",
       "      <td>False</td>\n",
       "      <td>False</td>\n",
       "    </tr>\n",
       "    <tr>\n",
       "      <th>3</th>\n",
       "      <td>False</td>\n",
       "      <td>False</td>\n",
       "      <td>False</td>\n",
       "      <td>False</td>\n",
       "      <td>False</td>\n",
       "      <td>False</td>\n",
       "      <td>False</td>\n",
       "      <td>False</td>\n",
       "      <td>False</td>\n",
       "      <td>False</td>\n",
       "      <td>...</td>\n",
       "      <td>False</td>\n",
       "      <td>False</td>\n",
       "      <td>False</td>\n",
       "      <td>False</td>\n",
       "      <td>False</td>\n",
       "      <td>False</td>\n",
       "      <td>False</td>\n",
       "      <td>False</td>\n",
       "      <td>False</td>\n",
       "      <td>False</td>\n",
       "    </tr>\n",
       "    <tr>\n",
       "      <th>4</th>\n",
       "      <td>False</td>\n",
       "      <td>False</td>\n",
       "      <td>False</td>\n",
       "      <td>False</td>\n",
       "      <td>False</td>\n",
       "      <td>False</td>\n",
       "      <td>False</td>\n",
       "      <td>False</td>\n",
       "      <td>False</td>\n",
       "      <td>False</td>\n",
       "      <td>...</td>\n",
       "      <td>False</td>\n",
       "      <td>False</td>\n",
       "      <td>False</td>\n",
       "      <td>False</td>\n",
       "      <td>False</td>\n",
       "      <td>False</td>\n",
       "      <td>False</td>\n",
       "      <td>False</td>\n",
       "      <td>False</td>\n",
       "      <td>False</td>\n",
       "    </tr>\n",
       "  </tbody>\n",
       "</table>\n",
       "<p>5 rows × 4016 columns</p>\n",
       "</div>"
      ],
      "text/plain": [
       "    4 PURPLE FLOCK DINNER CANDLES   50'S CHRISTMAS GIFT BAG LARGE  \\\n",
       "0                           False                           False   \n",
       "1                           False                           False   \n",
       "2                           False                           False   \n",
       "3                           False                           False   \n",
       "4                           False                           False   \n",
       "\n",
       "    DOLLY GIRL BEAKER   I LOVE LONDON MINI BACKPACK  \\\n",
       "0               False                         False   \n",
       "1               False                         False   \n",
       "2               False                         False   \n",
       "3               False                         False   \n",
       "4               False                         False   \n",
       "\n",
       "    I LOVE LONDON MINI RUCKSACK   NINE DRAWER OFFICE TIDY  \\\n",
       "0                         False                     False   \n",
       "1                         False                     False   \n",
       "2                         False                     False   \n",
       "3                         False                     False   \n",
       "4                         False                     False   \n",
       "\n",
       "    OVAL WALL MIRROR DIAMANTE    RED SPOT GIFT BAG LARGE  \\\n",
       "0                        False                     False   \n",
       "1                        False                     False   \n",
       "2                        False                     False   \n",
       "3                        False                     False   \n",
       "4                        False                     False   \n",
       "\n",
       "    SET 2 TEA TOWELS I LOVE LONDON    SPACEBOY BABY GIFT SET  ...  \\\n",
       "0                             False                    False  ...   \n",
       "1                             False                    False  ...   \n",
       "2                             False                    False  ...   \n",
       "3                             False                    False  ...   \n",
       "4                             False                    False  ...   \n",
       "\n",
       "   ZINC STAR T-LIGHT HOLDER   ZINC SWEETHEART SOAP DISH  \\\n",
       "0                      False                      False   \n",
       "1                      False                      False   \n",
       "2                      False                      False   \n",
       "3                      False                      False   \n",
       "4                      False                      False   \n",
       "\n",
       "   ZINC SWEETHEART WIRE LETTER RACK  ZINC T-LIGHT HOLDER STAR LARGE  \\\n",
       "0                             False                           False   \n",
       "1                             False                           False   \n",
       "2                             False                           False   \n",
       "3                             False                           False   \n",
       "4                             False                           False   \n",
       "\n",
       "   ZINC T-LIGHT HOLDER STARS LARGE  ZINC T-LIGHT HOLDER STARS SMALL  \\\n",
       "0                            False                            False   \n",
       "1                            False                            False   \n",
       "2                            False                            False   \n",
       "3                            False                            False   \n",
       "4                            False                            False   \n",
       "\n",
       "   ZINC TOP  2 DOOR WOODEN SHELF   ZINC WILLIE WINKIE  CANDLE STICK  \\\n",
       "0                           False                             False   \n",
       "1                           False                             False   \n",
       "2                           False                             False   \n",
       "3                           False                             False   \n",
       "4                           False                             False   \n",
       "\n",
       "   ZINC WIRE KITCHEN ORGANISER  ZINC WIRE SWEETHEART LETTER TRAY  \n",
       "0                        False                             False  \n",
       "1                        False                             False  \n",
       "2                        False                             False  \n",
       "3                        False                             False  \n",
       "4                        False                             False  \n",
       "\n",
       "[5 rows x 4016 columns]"
      ]
     },
     "execution_count": 13,
     "metadata": {},
     "output_type": "execute_result"
    }
   ],
   "source": [
    "#Now we have the data in the format we want, True values refer to the item has been purchased in that transaction\n",
    "trans_items_df.head()"
   ]
  },
  {
   "cell_type": "markdown",
   "metadata": {},
   "source": [
    "We need to select the following before we find the frequent item-sets: <br>\n",
    "&emsp;a) **Algorithm**: Apriori vs FPGrowth: We can compare the performances of both the algorithms on a smaller subset of data <br>\n",
    "&emsp;b) **min_support**: We need min_support value ideal for our goal mentioned above <br>"
   ]
  },
  {
   "cell_type": "markdown",
   "metadata": {},
   "source": [
    "### 5a) Perfomance comparison of Apriori vs FPGrowth"
   ]
  },
  {
   "cell_type": "code",
   "execution_count": 14,
   "metadata": {},
   "outputs": [],
   "source": [
    "#Create a smaller copy of the original data frame for this and format it into transaction vs items foramt\n",
    "trans_items_df2 = trans_items_df.iloc[0:2000, 0:400]"
   ]
  },
  {
   "cell_type": "code",
   "execution_count": 15,
   "metadata": {},
   "outputs": [],
   "source": [
    "#We check perfomance for different hyperparameters i.e. diff min_support values\n",
    "min_support = [0.1,0.05,0.02, 0.01]\n",
    "time_comp = pd.DataFrame(columns = [\"algo\", \"min_support\", \"time(ms)\"])"
   ]
  },
  {
   "cell_type": "code",
   "execution_count": 16,
   "metadata": {},
   "outputs": [],
   "source": [
    "import time\n",
    "for ms in min_support:\n",
    "    tick = time.time()\n",
    "    fpgrowth(trans_items_df2, min_support = ms, use_colnames=True)\n",
    "    tock = time.time()\n",
    "    time_comp = time_comp.append({\"algo\":\"fpgrowth\", \"min_support\":ms, \"time(ms)\":round((tock - tick)*1000,0)},ignore_index=True)\n",
    "     \n",
    "    tick = time.time()\n",
    "    apriori(trans_items_df2, min_support = ms, use_colnames=True)\n",
    "    tock = time.time()\n",
    "    time_comp = time_comp.append({\"algo\":\"apriori\", \"min_support\":ms, \"time(ms)\":round((tock - tick)*1000,0)},ignore_index=True)"
   ]
  },
  {
   "cell_type": "code",
   "execution_count": 17,
   "metadata": {},
   "outputs": [
    {
     "data": {
      "text/plain": [
       "Text(0.5, 6.79999999999999, 'Min. Support')"
      ]
     },
     "execution_count": 17,
     "metadata": {},
     "output_type": "execute_result"
    },
    {
     "data": {
      "image/png": "[encoded data removed]",
      "text/plain": [
       "<Figure size 720x360 with 1 Axes>"
      ]
     },
     "metadata": {
      "needs_background": "light"
     },
     "output_type": "display_data"
    }
   ],
   "source": [
    "sns.catplot(x = 'min_support', y='time(ms)', hue = 'algo',data=time_comp, kind='bar', legend = False, alpha = 0.9, height=5, aspect=2)\n",
    "plt.legend(prop={'size': 15})\n",
    "plt.title('Performance of FPGrowth vs Apriori', fontsize = 20)\n",
    "plt.ylabel('Time in ms', fontsize=15)\n",
    "plt.xlabel('Min. Support',fontsize=15 )"
   ]
  },
  {
   "cell_type": "markdown",
   "metadata": {},
   "source": [
    "We observe ***FPGrowth performs a lot better*** on smaller min_support value and is comparable for larger values <br>\n",
    "This is due to the fact FPGrowth refers to the original transaction DB only once and then creates suffix tree for candidate generation unlike Apriori algorithm where transaction DB is referred at every stage of item-set generation<br>\n",
    "Therefore, **we can select FPGrowth for the larger dataset**"
   ]
  },
  {
   "cell_type": "markdown",
   "metadata": {},
   "source": [
    "### 5b) Selecting the apriopriate min_support value"
   ]
  },
  {
   "cell_type": "markdown",
   "metadata": {},
   "source": [
    "We want a min_support value such that: <br>\n",
    "&emsp; 1) We are able to select item-sets of size more than 1 <br>\n",
    "&emsp; 2) It does not take a lot of time to run. Smaller the min_support value more the time it will take to run the algorithm <br>"
   ]
  },
  {
   "cell_type": "code",
   "execution_count": 18,
   "metadata": {},
   "outputs": [],
   "source": [
    "#Create a dictionary for storing frequent itemsets\n",
    "#freq_is1 = frequent item sets of size 1\n",
    "#freq_is2 = frequent item sets of size 2 or more\n",
    "freq_is = {0.1:0,0.05:0, 0.02:0, 0.01:0}\n",
    "freq_is1 = {0.1:0,0.05:0, 0.02:0, 0.01:0}\n",
    "freq_is2 = {0.1:0,0.05:0, 0.02:0, 0.01:0}"
   ]
  },
  {
   "cell_type": "code",
   "execution_count": 19,
   "metadata": {},
   "outputs": [
    {
     "name": "stdout",
     "output_type": "stream",
     "text": [
      "min support = 0.1\n",
      "total frequent itemsets of size 1 = 3\n",
      "total frequent itemsets of size more than 1 = 0\n",
      "min support = 0.05\n",
      "total frequent itemsets of size 1 = 33\n",
      "total frequent itemsets of size more than 1 = 0\n",
      "min support = 0.02\n",
      "total frequent itemsets of size 1 = 299\n",
      "total frequent itemsets of size more than 1 = 82\n",
      "min support = 0.01\n",
      "total frequent itemsets of size 1 = 823\n",
      "total frequent itemsets of size more than 1 = 1051\n"
     ]
    }
   ],
   "source": [
    "for ms in min_support:\n",
    "    frequent_itemsets = fpgrowth(trans_items_df, min_support=ms, use_colnames=True)\n",
    "    frequent_itemsets['length'] = frequent_itemsets['itemsets'].apply(lambda x: len(x))\n",
    "    print(\"min support = \"+str(ms))\n",
    "    freq_is[ms] = len(frequent_itemsets)\n",
    "    freq_is1[ms] = sum(frequent_itemsets[\"length\"]==1)\n",
    "    freq_is2[ms] = sum(frequent_itemsets[\"length\"]>1)\n",
    "    print(\"total frequent itemsets of size 1 = \"+str(freq_is1[ms]))\n",
    "    print(\"total frequent itemsets of size more than 1 = \"+str(freq_is2[ms]))"
   ]
  },
  {
   "cell_type": "markdown",
   "metadata": {},
   "source": [
    "We observe: <br>\n",
    "&emsp; 1) **min_support = 0.02** should be okay for creating association rules from the frequent item-sets as it has enough frequent item-sets of size more than 1 <br>\n",
    "&emsp; 2) The number of frequent item-sets more than 1 is not very large so it will create association rules faster than for item-sets of min_support = 0.01"
   ]
  },
  {
   "cell_type": "markdown",
   "metadata": {},
   "source": [
    "## 6. Generating frequent item-sets with:<br>\n",
    "&emsp;a) FPGrowth algorithm <br>\n",
    "&emsp;b) min_support = 0.02 (2%)"
   ]
  },
  {
   "cell_type": "code",
   "execution_count": 20,
   "metadata": {},
   "outputs": [],
   "source": [
    "frequent_itemsets = fpgrowth(trans_items_df, min_support=0.02, use_colnames=True)\n",
    "frequent_itemsets['length'] = frequent_itemsets['itemsets'].apply(lambda x: len(x))\n",
    "frequent_itemsets2 = frequent_itemsets[frequent_itemsets[\"length\"]>=2].sort_values(by=['support'], ascending=False)\n",
    "Top10_s = list(frequent_itemsets2[\"support\"][0:10]*100)\n",
    "Top10_is = list(frequent_itemsets2[\"itemsets\"][0:10])\n",
    "X = [list(x) for x in Top10_is]\n",
    "Top10_is = [str(x)[2:-2] for x in X]"
   ]
  },
  {
   "cell_type": "code",
   "execution_count": 21,
   "metadata": {},
   "outputs": [
    {
     "data": {
      "text/plain": [
       "<matplotlib.axes._subplots.AxesSubplot at 0x1904728ac18>"
      ]
     },
     "execution_count": 21,
     "metadata": {},
     "output_type": "execute_result"
    },
    {
     "data": {
      "image/png": "[encoded data removed]",
      "text/plain": [
       "<Figure size 720x576 with 1 Axes>"
      ]
     },
     "metadata": {
      "needs_background": "light"
     },
     "output_type": "display_data"
    }
   ],
   "source": [
    "plt.figure(figsize=(10,8))\n",
    "plt.title('Top Frequent Itemsets of size >= 2 ', fontsize = 20)\n",
    "plt.xlabel('% Support', fontsize=15)\n",
    "sns.set(font_scale=0.8)\n",
    "sns.barplot(Top10_s,Top10_is)"
   ]
  },
  {
   "cell_type": "markdown",
   "metadata": {},
   "source": [
    "***Following insights can be drawn from this analysis*** <br>\n",
    "1) **Jumbo Bag Red Retrospot** is one of the highest selling item (from high selling item chart) and also forms frequent itemsets with others. Such items can be sold on discount to drive sales of other items bought frequently with it like : Jumbo Storage Bad Suki , Jumbo Shopper Vintage Red Paisley <br>\n",
    "2) Purcahse beahviour patterns: Customers buy **same types of items together**: eg: Jumbo bags of 2 types or Alarm clocks of 2 types or 2 types of teacups and saucer <br>\n",
    "3) Online product placement: On the website **these combinations can be put closer to eachother** for driving more sales of items which have high affinity with the other <br> "
   ]
  },
  {
   "cell_type": "markdown",
   "metadata": {},
   "source": [
    "## 7. Building Association Rules"
   ]
  },
  {
   "cell_type": "markdown",
   "metadata": {},
   "source": [
    "We try 2 important criterias: <br>\n",
    "1) **Cofidence**: a metric which indicates how often is the rule found to be true <br>\n",
    "&emsp;confidence (X → Y) =  sup(XY) / sup(X)\n"
   ]
  },
  {
   "cell_type": "code",
   "execution_count": 22,
   "metadata": {},
   "outputs": [],
   "source": [
    "from mlxtend.frequent_patterns import association_rules\n",
    "rules_c = association_rules(frequent_itemsets, metric=\"confidence\", min_threshold=0.7)"
   ]
  },
  {
   "cell_type": "code",
   "execution_count": 23,
   "metadata": {},
   "outputs": [
    {
     "data": {
      "text/html": [
       "<div>\n",
       "<style scoped>\n",
       "    .dataframe tbody tr th:only-of-type {\n",
       "        vertical-align: middle;\n",
       "    }\n",
       "\n",
       "    .dataframe tbody tr th {\n",
       "        vertical-align: top;\n",
       "    }\n",
       "\n",
       "    .dataframe thead th {\n",
       "        text-align: right;\n",
       "    }\n",
       "</style>\n",
       "<table border=\"1\" class=\"dataframe\">\n",
       "  <thead>\n",
       "    <tr style=\"text-align: right;\">\n",
       "      <th></th>\n",
       "      <th>antecedents</th>\n",
       "      <th>consequents</th>\n",
       "      <th>antecedent support</th>\n",
       "      <th>consequent support</th>\n",
       "      <th>support</th>\n",
       "      <th>confidence</th>\n",
       "      <th>lift</th>\n",
       "      <th>leverage</th>\n",
       "      <th>conviction</th>\n",
       "    </tr>\n",
       "  </thead>\n",
       "  <tbody>\n",
       "    <tr>\n",
       "      <th>0</th>\n",
       "      <td>(JUMBO BAG PINK POLKADOT, JUMBO STORAGE BAG SUKI)</td>\n",
       "      <td>(JUMBO BAG RED RETROSPOT)</td>\n",
       "      <td>0.026042</td>\n",
       "      <td>0.105633</td>\n",
       "      <td>0.020884</td>\n",
       "      <td>0.801942</td>\n",
       "      <td>7.591766</td>\n",
       "      <td>0.018133</td>\n",
       "      <td>4.515676</td>\n",
       "    </tr>\n",
       "  </tbody>\n",
       "</table>\n",
       "</div>"
      ],
      "text/plain": [
       "                                         antecedents  \\\n",
       "0  (JUMBO BAG PINK POLKADOT, JUMBO STORAGE BAG SUKI)   \n",
       "\n",
       "                 consequents  antecedent support  consequent support  \\\n",
       "0  (JUMBO BAG RED RETROSPOT)            0.026042            0.105633   \n",
       "\n",
       "    support  confidence      lift  leverage  conviction  \n",
       "0  0.020884    0.801942  7.591766  0.018133    4.515676  "
      ]
     },
     "execution_count": 23,
     "metadata": {},
     "output_type": "execute_result"
    }
   ],
   "source": [
    "rules_c[0:1]"
   ]
  },
  {
   "cell_type": "markdown",
   "metadata": {},
   "source": [
    "**Interpretation of Confidence**:<br> \n",
    "Customers buying JUMBO BAG RED RETROSPOT item buy item-set (JUMBO BAG PINK POLKADOT, JUMBO STORAGE BAG SUKI) along with it 80% of the time <br>\n",
    "Therefore the rule, **(JUMBO BAG RED RETROSPOT) → (JUMBO BAG PINK POLKADOT, JUMBO STORAGE BAG SUKI)** is quite a strong rule"
   ]
  },
  {
   "cell_type": "markdown",
   "metadata": {},
   "source": [
    "2) **Lift**: a metric which determines the stregth of the rule over random occurence<br>\n",
    "&emsp;lift(X → Y) = sup(XY) / ( sup(X) * sup(Y) )"
   ]
  },
  {
   "cell_type": "code",
   "execution_count": 24,
   "metadata": {},
   "outputs": [],
   "source": [
    "rules_l = association_rules(frequent_itemsets, metric = \"lift\", min_threshold  = 1.2)"
   ]
  },
  {
   "cell_type": "code",
   "execution_count": 25,
   "metadata": {},
   "outputs": [
    {
     "data": {
      "text/html": [
       "<div>\n",
       "<style scoped>\n",
       "    .dataframe tbody tr th:only-of-type {\n",
       "        vertical-align: middle;\n",
       "    }\n",
       "\n",
       "    .dataframe tbody tr th {\n",
       "        vertical-align: top;\n",
       "    }\n",
       "\n",
       "    .dataframe thead th {\n",
       "        text-align: right;\n",
       "    }\n",
       "</style>\n",
       "<table border=\"1\" class=\"dataframe\">\n",
       "  <thead>\n",
       "    <tr style=\"text-align: right;\">\n",
       "      <th></th>\n",
       "      <th>antecedents</th>\n",
       "      <th>consequents</th>\n",
       "      <th>antecedent support</th>\n",
       "      <th>consequent support</th>\n",
       "      <th>support</th>\n",
       "      <th>confidence</th>\n",
       "      <th>lift</th>\n",
       "      <th>leverage</th>\n",
       "      <th>conviction</th>\n",
       "    </tr>\n",
       "  </thead>\n",
       "  <tbody>\n",
       "    <tr>\n",
       "      <th>0</th>\n",
       "      <td>(JAM MAKING SET WITH JARS)</td>\n",
       "      <td>(JAM MAKING SET PRINTED)</td>\n",
       "      <td>0.057241</td>\n",
       "      <td>0.058758</td>\n",
       "      <td>0.023867</td>\n",
       "      <td>0.416961</td>\n",
       "      <td>7.096233</td>\n",
       "      <td>0.020504</td>\n",
       "      <td>1.614372</td>\n",
       "    </tr>\n",
       "  </tbody>\n",
       "</table>\n",
       "</div>"
      ],
      "text/plain": [
       "                  antecedents               consequents  antecedent support  \\\n",
       "0  (JAM MAKING SET WITH JARS)  (JAM MAKING SET PRINTED)            0.057241   \n",
       "\n",
       "   consequent support   support  confidence      lift  leverage  conviction  \n",
       "0            0.058758  0.023867    0.416961  7.096233  0.020504    1.614372  "
      ]
     },
     "execution_count": 25,
     "metadata": {},
     "output_type": "execute_result"
    }
   ],
   "source": [
    "rules_l[0:1]"
   ]
  },
  {
   "cell_type": "markdown",
   "metadata": {},
   "source": [
    "**Interpretation of Lift**: <br>\n",
    "Notion of how independent are the antecedent and consequent item-sets from eachother. <br>\n",
    "&emsp; a) lift >> 1: Highly dependent on eachother <br>\n",
    "&emsp; b) lift = 1: Independent of eachother <br>\n",
    "&emsp; c) lift << 1: Items are substitutes of each other (if of the same class eg: Pepsi and Coke belonging to the Beverages class etc.)"
   ]
  },
  {
   "cell_type": "markdown",
   "metadata": {},
   "source": [
    "There are other important criterias like leverage and conviction"
   ]
  },
  {
   "cell_type": "markdown",
   "metadata": {},
   "source": [
    "### 7a) Building some important association rules for practical applications"
   ]
  },
  {
   "cell_type": "markdown",
   "metadata": {},
   "source": [
    "We can select the rules having **high confidence and lift** i.e. <br>\n",
    "&emsp; 1) **confidence >= 0.5** <br>\n",
    "&emsp; 2) **lift >= 2**"
   ]
  },
  {
   "cell_type": "code",
   "execution_count": 26,
   "metadata": {},
   "outputs": [],
   "source": [
    "rules = association_rules(frequent_itemsets, metric = \"confidence\", min_threshold = 0.6)\n",
    "rules_imp = rules[(rules[\"lift\"] > 2)].copy()"
   ]
  },
  {
   "cell_type": "markdown",
   "metadata": {},
   "source": [
    "### 7b) Insights from these rules"
   ]
  },
  {
   "cell_type": "code",
   "execution_count": 27,
   "metadata": {},
   "outputs": [
    {
     "data": {
      "text/html": [
       "<div>\n",
       "<style scoped>\n",
       "    .dataframe tbody tr th:only-of-type {\n",
       "        vertical-align: middle;\n",
       "    }\n",
       "\n",
       "    .dataframe tbody tr th {\n",
       "        vertical-align: top;\n",
       "    }\n",
       "\n",
       "    .dataframe thead th {\n",
       "        text-align: right;\n",
       "    }\n",
       "</style>\n",
       "<table border=\"1\" class=\"dataframe\">\n",
       "  <thead>\n",
       "    <tr style=\"text-align: right;\">\n",
       "      <th></th>\n",
       "      <th>antecedents</th>\n",
       "      <th>consequents</th>\n",
       "      <th>antecedent support</th>\n",
       "      <th>consequent support</th>\n",
       "      <th>support</th>\n",
       "      <th>confidence</th>\n",
       "      <th>lift</th>\n",
       "      <th>leverage</th>\n",
       "      <th>conviction</th>\n",
       "    </tr>\n",
       "  </thead>\n",
       "  <tbody>\n",
       "    <tr>\n",
       "      <th>0</th>\n",
       "      <td>(ALARM CLOCK BAKELIKE GREEN)</td>\n",
       "      <td>(ALARM CLOCK BAKELIKE RED )</td>\n",
       "      <td>0.049555</td>\n",
       "      <td>0.053145</td>\n",
       "      <td>0.032362</td>\n",
       "      <td>0.653061</td>\n",
       "      <td>12.288239</td>\n",
       "      <td>0.029729</td>\n",
       "      <td>2.72917</td>\n",
       "    </tr>\n",
       "  </tbody>\n",
       "</table>\n",
       "</div>"
      ],
      "text/plain": [
       "                    antecedents                  consequents  \\\n",
       "0  (ALARM CLOCK BAKELIKE GREEN)  (ALARM CLOCK BAKELIKE RED )   \n",
       "\n",
       "   antecedent support  consequent support   support  confidence       lift  \\\n",
       "0            0.049555            0.053145  0.032362    0.653061  12.288239   \n",
       "\n",
       "   leverage  conviction  \n",
       "0  0.029729     2.72917  "
      ]
     },
     "execution_count": 27,
     "metadata": {},
     "output_type": "execute_result"
    }
   ],
   "source": [
    "rules_imp.head(1)"
   ]
  },
  {
   "cell_type": "markdown",
   "metadata": {},
   "source": [
    "(1) **Promotional Offers and Item Suggestions:** <br>\n",
    "&emsp; a) A **Promotional Combo Offer** can be created for buying the items (ALARM CLOCK BAKELIKE RED, ALARM CLOCK BAKELIKE GREEN) together. <br>\n",
    "&emsp; The rule is very strong and the customers buying one item are likely to buy the second item too <br>\n",
    "&emsp; b) **Item Suggestions**: A customer buying the item (or having in the cart)  ALARM CLOCK BAKELIKE GREEN should be suggested the ALARM CLOCK BAKELIKE RED on the website as it's highly likely the customer will buy both the items\n"
   ]
  },
  {
   "cell_type": "markdown",
   "metadata": {},
   "source": [
    "(2) **Loss Leader Pricing:** To implement this we need antecedents to be more than 1 so as to recover loss from multiple other items"
   ]
  },
  {
   "cell_type": "code",
   "execution_count": 29,
   "metadata": {},
   "outputs": [],
   "source": [
    "rules_imp_ll = rules_imp.copy()\n",
    "rules_imp_ll[\"antecedent_len\"] = rules[\"antecedents\"].apply(lambda x: len(x))\n",
    "rules_imp_ll = rules_imp_ll[rules_imp_ll[\"antecedent_len\"]>=2]"
   ]
  },
  {
   "cell_type": "code",
   "execution_count": 30,
   "metadata": {},
   "outputs": [
    {
     "data": {
      "text/html": [
       "<div>\n",
       "<style scoped>\n",
       "    .dataframe tbody tr th:only-of-type {\n",
       "        vertical-align: middle;\n",
       "    }\n",
       "\n",
       "    .dataframe tbody tr th {\n",
       "        vertical-align: top;\n",
       "    }\n",
       "\n",
       "    .dataframe thead th {\n",
       "        text-align: right;\n",
       "    }\n",
       "</style>\n",
       "<table border=\"1\" class=\"dataframe\">\n",
       "  <thead>\n",
       "    <tr style=\"text-align: right;\">\n",
       "      <th></th>\n",
       "      <th>antecedents</th>\n",
       "      <th>consequents</th>\n",
       "      <th>antecedent support</th>\n",
       "      <th>consequent support</th>\n",
       "      <th>support</th>\n",
       "      <th>confidence</th>\n",
       "      <th>lift</th>\n",
       "      <th>leverage</th>\n",
       "      <th>conviction</th>\n",
       "      <th>antecedent_len</th>\n",
       "    </tr>\n",
       "  </thead>\n",
       "  <tbody>\n",
       "    <tr>\n",
       "      <th>6</th>\n",
       "      <td>(JUMBO BAG PINK POLKADOT, JUMBO STORAGE BAG SUKI)</td>\n",
       "      <td>(JUMBO BAG RED RETROSPOT)</td>\n",
       "      <td>0.026042</td>\n",
       "      <td>0.105633</td>\n",
       "      <td>0.020884</td>\n",
       "      <td>0.801942</td>\n",
       "      <td>7.591766</td>\n",
       "      <td>0.018133</td>\n",
       "      <td>4.515676</td>\n",
       "      <td>2</td>\n",
       "    </tr>\n",
       "  </tbody>\n",
       "</table>\n",
       "</div>"
      ],
      "text/plain": [
       "                                         antecedents  \\\n",
       "6  (JUMBO BAG PINK POLKADOT, JUMBO STORAGE BAG SUKI)   \n",
       "\n",
       "                 consequents  antecedent support  consequent support  \\\n",
       "6  (JUMBO BAG RED RETROSPOT)            0.026042            0.105633   \n",
       "\n",
       "    support  confidence      lift  leverage  conviction  antecedent_len  \n",
       "6  0.020884    0.801942  7.591766  0.018133    4.515676               2  "
      ]
     },
     "execution_count": 30,
     "metadata": {},
     "output_type": "execute_result"
    }
   ],
   "source": [
    "rules_imp_ll.head(1)"
   ]
  },
  {
   "cell_type": "markdown",
   "metadata": {},
   "source": [
    "This is an imporant association rule set for applying loss leader pricing strategy in retail. An example of the implementation from the above set is: <br>\n",
    "**JUMBO BAG RED RETROSPOT (consequent) can be sold at a discount**, as the higher sale of this item due to a discount will in turn **increase the sale of JUMBO BAG PINK POLKADOT and JUMBO STORAGE BAG SUKI** (antecedents)"
   ]
  },
  {
   "cell_type": "markdown",
   "metadata": {},
   "source": [
    "### This exercise gives an important application of Data Science techniques for solving some of the most common business questions in retail. The examples mentioned are limited to a few for simplicity"
   ]
  }
 ],
 "metadata": {
  "kernelspec": {
   "display_name": "Python 3",
   "language": "python",
   "name": "python3"
  },
  "language_info": {
   "codemirror_mode": {
    "name": "ipython",
    "version": 3
   },
   "file_extension": ".py",
   "mimetype": "text/x-python",
   "name": "python",
   "nbconvert_exporter": "python",
   "pygments_lexer": "ipython3",
   "version": "3.7.6"
  },
  "toc": {
   "base_numbering": 1,
   "nav_menu": {},
   "number_sections": true,
   "sideBar": true,
   "skip_h1_title": false,
   "title_cell": "Table of Contents",
   "title_sidebar": "Contents",
   "toc_cell": false,
   "toc_position": {},
   "toc_section_display": true,
   "toc_window_display": false
  }
 },
 "nbformat": 4,
 "nbformat_minor": 2
}
