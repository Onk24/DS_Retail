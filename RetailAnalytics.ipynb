{
 "cells": [
  {
   "cell_type": "markdown",
   "metadata": {},
   "source": [
    "Following dataset has been used: \n",
    "https://archive.ics.uci.edu/ml/datasets/Online+Retail "
   ]
  },
  {
   "cell_type": "markdown",
   "metadata": {},
   "source": [
    "The dataset contains transaction data of an online retailer based in UK for a year. <br>\n",
    "It is made publicly available by School of Engineering, London South Bank University. \n",
    "It has **541,909 records**. It has the following attributes: <br>\n",
    "1) **InvoiceNo** : 6 digit transaction ID <br>\n",
    "2) **StockCode**: Product ID <br>\n",
    "3) **Description**: Product Description <br>\n",
    "4) **Quantity**: Number of counts of the product purchased <br>\n",
    "5) **InvoiceDate**: Date and time of transaction<br> \n",
    "6) **UnitPrice** Price of 1 item\n",
    "7) **CustumerID**: Unique ID for a customer <br>\n",
    "8) **Country**: Country where the customer resides <br> "
   ]
  },
  {
   "cell_type": "markdown",
   "metadata": {},
   "source": [
    "**Goal**: <br>\n",
    "1) Identify top selling items <br>\n",
    "2) Itdentify frequently bought items in transactions for: <br>\n",
    "&emsp; a) Promotional Combo Offers  <br>\n",
    "&emsp; b) Item Suggestions for the customer based on purchase of some other items<br>\n",
    "&emsp; c) Online Product Placements: to suggest frequently bought together items closeby <br>\n",
    "3) Draw insights from customer purchase patterns <br> "
   ]
  },
  {
   "cell_type": "markdown",
   "metadata": {},
   "source": [
    "**Exploratory Data Analysis** <br>\n",
    "1) Cleaning data <br>\n",
    "2) Visualize data  <br>\n",
    "**Frequent Itemsets** mining using following algorithms: <br>\n",
    "1) Apriori <br>\n",
    "2) FP-Growth <br>"
   ]
  },
  {
   "cell_type": "markdown",
   "metadata": {},
   "source": [
    "Apriori and FP-Growth algorithms are ideal for finding frequent item sets in a set of transaction. Both algorithms are more efficient than *Brute force counting* of frequent itemsets in terms of time complexity. <br>\n",
    "Both Apriori and FP-Growth candidate generation is optimal."
   ]
  },
  {
   "cell_type": "markdown",
   "metadata": {},
   "source": [
    "<span style=\"color:red\">**Question 6:** </span> What limitations does your 'selected' method(s) has(have) that may limit your ability to accomplish the goal you have set for yourself? \n"
   ]
  },
  {
   "cell_type": "markdown",
   "metadata": {},
   "source": [
    "Limitations: <br>\n",
    "1) Data not clean for direct libary use <br>\n",
    "2) Huge number of records (~500K), it may take a long time for Apriori algorithm. FP-Growth should perform better as it will not reference the original database more than once. <br>"
   ]
  },
  {
   "cell_type": "markdown",
   "metadata": {},
   "source": [
    "<span style=\"color:red\">**Question 7:** </span> Do you have any alternative plan/strategy to overcome the above limitation(s)?"
   ]
  },
  {
   "cell_type": "markdown",
   "metadata": {},
   "source": [
    "Strategy: <br>\n",
    "1) Clean data and transform for the libary usage <br>\n",
    "2) Filter data if the dataset takes huge time and do analysis at a more granular level <br>\n",
    "3) Compare perfromance of the algorithm on smaller dataset and use the one which is faster on the whole database <br>"
   ]
  },
  {
   "cell_type": "markdown",
   "metadata": {},
   "source": [
    "<span style=\"color:red\">**Question 8:** </span> For each of the methods you want to use, what parameter choices do you want to use and why? It does not have to be one parameter choice, it could be a collection or a range of choices you may want to consider."
   ]
  },
  {
   "cell_type": "markdown",
   "metadata": {},
   "source": [
    "Parameters for the following: <br>\n",
    "a) min_support = [0.1, 0.05,0.02,0.01] <br>\n",
    "b) length = 1 for finding frequent items and >=2 for finding item sets for tasks of more than 2 items (promotional offers, item suggestions and online product placement) <br>\n",
    "\n"
   ]
  },
  {
   "cell_type": "markdown",
   "metadata": {},
   "source": []
  },
  {
   "cell_type": "markdown",
   "metadata": {},
   "source": [
    "<span style=\"color:red\">**Question 9:** </span> How will you evaluate that you are successful in your pursuing your goal at the end of the project? In other words, what is your evaluation criteria?\n"
   ]
  },
  {
   "cell_type": "markdown",
   "metadata": {},
   "source": [
    "**Success criteria:** <br>\n",
    "1) Able to draw insights from exploratory data analysis <br>\n",
    "2) Speed of generation of frequent itemsets is fast enough <br>\n",
    "3) Able to generate item sets of more than 1 item with sufficient cofidence (at least 1%) <br>\n",
    "4) Able to draw conclusions from the frequent itemsets relevent to the tasks mentioned above "
   ]
  },
  {
   "cell_type": "markdown",
   "metadata": {},
   "source": [
    "<span style=\"color:red\">**Question 10:** </span> How will you evaluate that you are successful in your pursuing your goal at the end of the project? In other words, what is your evaluation criteria?\n"
   ]
  },
  {
   "cell_type": "markdown",
   "metadata": {},
   "source": [
    "**Success criteria:** <br>\n",
    "1) Able to draw insights from exploratory data analysis <br>\n",
    "2) Speed of generation of frequent itemsets is fast enough <br>\n",
    "3) Able to generate item sets of more than 1 item with sufficient cofidence (at least 1%) <br>\n",
    "4) Able to draw conclusions from the frequent itemsets relevent to the tasks mentioned above "
   ]
  },
  {
   "cell_type": "markdown",
   "metadata": {},
   "source": [
    "<span style=\"color:red\">**Question 11:** </span> Show any visualizations you may have generated to understand your data. Please include the code you used and the plots below. If you borrowed code (entirely or partially) from the hands-on projects or anywhere else, clearly provide a link to your source.\n",
    "\n",
    "You may use this package to load UCI data in python: https://github.com/SkafteNicki/py_uci"
   ]
  },
  {
   "cell_type": "markdown",
   "metadata": {},
   "source": [
    "**Source code** for apriori and fpgrowth (mlxtend.frequent_patterns user guide): http://rasbt.github.io/mlxtend/user_guide/frequent_patterns/association_rules/#association-rules-generation-from-frequent-itemsets "
   ]
  },
  {
   "cell_type": "code",
   "execution_count": 1,
   "metadata": {},
   "outputs": [],
   "source": [
    "import pandas as pd\n",
    "import numpy as np\n",
    "from mlxtend.frequent_patterns import apriori\n",
    "from mlxtend.frequent_patterns import fpgrowth\n",
    "import seaborn as sns\n",
    "import matplotlib.pyplot as plt\n",
    "from mlxtend.preprocessing import TransactionEncoder\n"
   ]
  },
  {
   "cell_type": "code",
   "execution_count": 2,
   "metadata": {},
   "outputs": [
    {
     "name": "stdout",
     "output_type": "stream",
     "text": [
      "(541909, 8)\n"
     ]
    },
    {
     "data": {
      "text/html": [
       "<div>\n",
       "<style scoped>\n",
       "    .dataframe tbody tr th:only-of-type {\n",
       "        vertical-align: middle;\n",
       "    }\n",
       "\n",
       "    .dataframe tbody tr th {\n",
       "        vertical-align: top;\n",
       "    }\n",
       "\n",
       "    .dataframe thead th {\n",
       "        text-align: right;\n",
       "    }\n",
       "</style>\n",
       "<table border=\"1\" class=\"dataframe\">\n",
       "  <thead>\n",
       "    <tr style=\"text-align: right;\">\n",
       "      <th></th>\n",
       "      <th>InvoiceNo</th>\n",
       "      <th>StockCode</th>\n",
       "      <th>Description</th>\n",
       "      <th>Quantity</th>\n",
       "      <th>InvoiceDate</th>\n",
       "      <th>UnitPrice</th>\n",
       "      <th>CustomerID</th>\n",
       "      <th>Country</th>\n",
       "    </tr>\n",
       "  </thead>\n",
       "  <tbody>\n",
       "    <tr>\n",
       "      <th>0</th>\n",
       "      <td>536365</td>\n",
       "      <td>85123A</td>\n",
       "      <td>WHITE HANGING HEART T-LIGHT HOLDER</td>\n",
       "      <td>6</td>\n",
       "      <td>2010-12-01 08:26:00</td>\n",
       "      <td>2.55</td>\n",
       "      <td>17850.0</td>\n",
       "      <td>United Kingdom</td>\n",
       "    </tr>\n",
       "    <tr>\n",
       "      <th>1</th>\n",
       "      <td>536365</td>\n",
       "      <td>71053</td>\n",
       "      <td>WHITE METAL LANTERN</td>\n",
       "      <td>6</td>\n",
       "      <td>2010-12-01 08:26:00</td>\n",
       "      <td>3.39</td>\n",
       "      <td>17850.0</td>\n",
       "      <td>United Kingdom</td>\n",
       "    </tr>\n",
       "    <tr>\n",
       "      <th>2</th>\n",
       "      <td>536365</td>\n",
       "      <td>84406B</td>\n",
       "      <td>CREAM CUPID HEARTS COAT HANGER</td>\n",
       "      <td>8</td>\n",
       "      <td>2010-12-01 08:26:00</td>\n",
       "      <td>2.75</td>\n",
       "      <td>17850.0</td>\n",
       "      <td>United Kingdom</td>\n",
       "    </tr>\n",
       "    <tr>\n",
       "      <th>3</th>\n",
       "      <td>536365</td>\n",
       "      <td>84029G</td>\n",
       "      <td>KNITTED UNION FLAG HOT WATER BOTTLE</td>\n",
       "      <td>6</td>\n",
       "      <td>2010-12-01 08:26:00</td>\n",
       "      <td>3.39</td>\n",
       "      <td>17850.0</td>\n",
       "      <td>United Kingdom</td>\n",
       "    </tr>\n",
       "    <tr>\n",
       "      <th>4</th>\n",
       "      <td>536365</td>\n",
       "      <td>84029E</td>\n",
       "      <td>RED WOOLLY HOTTIE WHITE HEART.</td>\n",
       "      <td>6</td>\n",
       "      <td>2010-12-01 08:26:00</td>\n",
       "      <td>3.39</td>\n",
       "      <td>17850.0</td>\n",
       "      <td>United Kingdom</td>\n",
       "    </tr>\n",
       "  </tbody>\n",
       "</table>\n",
       "</div>"
      ],
      "text/plain": [
       "  InvoiceNo StockCode                          Description  Quantity  \\\n",
       "0    536365    85123A   WHITE HANGING HEART T-LIGHT HOLDER         6   \n",
       "1    536365     71053                  WHITE METAL LANTERN         6   \n",
       "2    536365    84406B       CREAM CUPID HEARTS COAT HANGER         8   \n",
       "3    536365    84029G  KNITTED UNION FLAG HOT WATER BOTTLE         6   \n",
       "4    536365    84029E       RED WOOLLY HOTTIE WHITE HEART.         6   \n",
       "\n",
       "          InvoiceDate  UnitPrice  CustomerID         Country  \n",
       "0 2010-12-01 08:26:00       2.55     17850.0  United Kingdom  \n",
       "1 2010-12-01 08:26:00       3.39     17850.0  United Kingdom  \n",
       "2 2010-12-01 08:26:00       2.75     17850.0  United Kingdom  \n",
       "3 2010-12-01 08:26:00       3.39     17850.0  United Kingdom  \n",
       "4 2010-12-01 08:26:00       3.39     17850.0  United Kingdom  "
      ]
     },
     "execution_count": 2,
     "metadata": {},
     "output_type": "execute_result"
    }
   ],
   "source": [
    "#importing data and priting first few transactions\n",
    "online_retail  = pd.read_excel(\"Online Retail.xlsx\")\n",
    "print(online_retail.shape)\n",
    "online_retail.head()\n"
   ]
  },
  {
   "cell_type": "markdown",
   "metadata": {},
   "source": [
    "# Cleaning data"
   ]
  },
  {
   "cell_type": "code",
   "execution_count": 6,
   "metadata": {},
   "outputs": [
    {
     "name": "stdout",
     "output_type": "stream",
     "text": [
      "Total null values in every column\n",
      "InvoiceNo           0\n",
      "StockCode           0\n",
      "Description         0\n",
      "Quantity            0\n",
      "InvoiceDate         0\n",
      "UnitPrice           0\n",
      "CustomerID     131436\n",
      "Country             0\n",
      "dtype: int64\n"
     ]
    }
   ],
   "source": [
    "retail_df = online_retail.copy()\n",
    "#deleting junk records\n",
    "retail_df[\"Description\"] = retail_df[\"Description\"].astype(str)\n",
    "retail_df[\"StockCode\"] = retail_df[\"StockCode\"].astype(str)\n",
    "retail_df = retail_df[retail_df[\"StockCode\"].str.contains('[0-9]')]\n",
    "retail_df= retail_df[retail_df['UnitPrice']!=0]\n",
    "retail_df= retail_df[retail_df['Quantity']>0]\n",
    "#deleting cancelled records\n",
    "retail_df['InvoiceNo'] = retail_df['InvoiceNo'].astype(str)\n",
    "retail_df = retail_df[~retail_df['InvoiceNo'].str.contains('C')]\n",
    "#checking for null values in columns\n",
    "print(\"Total null values in every column\")\n",
    "print(retail_df.isna().sum())"
   ]
  },
  {
   "cell_type": "code",
   "execution_count": 7,
   "metadata": {},
   "outputs": [
    {
     "data": {
      "text/plain": [
       "InvoiceNo      19776\n",
       "StockCode       3911\n",
       "Description     4016\n",
       "Quantity         374\n",
       "InvoiceDate    18335\n",
       "UnitPrice        502\n",
       "CustomerID      4334\n",
       "Country           38\n",
       "dtype: int64"
      ]
     },
     "execution_count": 7,
     "metadata": {},
     "output_type": "execute_result"
    }
   ],
   "source": [
    "retail_df.nunique()"
   ]
  },
  {
   "cell_type": "markdown",
   "metadata": {},
   "source": [
    "We observe the StockCode (Product ID) to Description mapping is not one to one"
   ]
  },
  {
   "cell_type": "markdown",
   "metadata": {},
   "source": [
    "# Visualizing Data"
   ]
  },
  {
   "cell_type": "code",
   "execution_count": 59,
   "metadata": {},
   "outputs": [
    {
     "data": {
      "text/plain": [
       "array([    1,     1,     1,     1,     2,     2,     3,     3,     4,\n",
       "           4,     5,     5,     5,     5,     7,     7,     8,    13,\n",
       "          14,    17,    18,    19,    19,    25,    32,    34,    35,\n",
       "          40,    50,    50,    56,    88,    93,    98,   284,   383,\n",
       "         443, 17901], dtype=int64)"
      ]
     },
     "execution_count": 59,
     "metadata": {},
     "output_type": "execute_result"
    }
   ],
   "source": [
    "np.sort(retail_df.groupby(\"Country\")[\"InvoiceNo\"].nunique())"
   ]
  },
  {
   "cell_type": "code",
   "execution_count": 60,
   "metadata": {},
   "outputs": [
    {
     "data": {
      "text/plain": [
       "<matplotlib.axes._subplots.AxesSubplot at 0x1424b994a90>"
      ]
     },
     "execution_count": 60,
     "metadata": {},
     "output_type": "execute_result"
    },
    {
     "data": {
      "image/png": "[encoded data removed]",
      "text/plain": [
       "<Figure size 720x360 with 1 Axes>"
      ]
     },
     "metadata": {
      "needs_background": "light"
     },
     "output_type": "display_data"
    }
   ],
   "source": [
    "trans_by_country = retail_df.groupby(\"Country\")[\"InvoiceNo\"].nunique()\n",
    "trans_by_country = trans_by_country.nlargest(5)\n",
    "plt.figure(figsize=(10,5))\n",
    "plt.title('Number of transactions by Country', fontsize = 12)\n",
    "plt.ylabel('Number of transactions', fontsize=12)\n",
    "plt.xlabel('Country', fontsize=15)\n",
    "sns.barplot(trans_by_country.index, trans_by_country.values, alpha = 0.5 )"
   ]
  },
  {
   "cell_type": "code",
   "execution_count": 61,
   "metadata": {},
   "outputs": [
    {
     "data": {
      "image/png": "[encoded data removed]",
      "text/plain": [
       "<Figure size 1440x360 with 1 Axes>"
      ]
     },
     "metadata": {
      "needs_background": "light"
     },
     "output_type": "display_data"
    }
   ],
   "source": [
    "trans_by_product = retail_df.groupby(\"Description\")[\"InvoiceNo\"].nunique()\n",
    "trans_by_product = trans_by_product.nlargest(5)\n",
    "#trans_by_country[trans_by_country > 100].plot(kind=\"bar\")\n",
    "plt.figure(figsize=(20,5))\n",
    "plt.title('Top selling items', fontsize = 20)\n",
    "plt.ylabel('Number of transactions', fontsize=20)\n",
    "plt.xlabel('Item Description', fontsize=20)\n",
    "sns.barplot(trans_by_product.index, trans_by_product.values, alpha = 0.5 )\n",
    "plt.show()"
   ]
  },
  {
   "cell_type": "markdown",
   "metadata": {},
   "source": [
    "<span style=\"color:red\">**Question 12:** </span> **Perform data mining, evaluate your work and report your findings.** This should include code, plots and results you may have generated. If you borrowed code (entirely or partially) from the hands-on projects or anywhere else, clearly provide a link to your source."
   ]
  },
  {
   "cell_type": "code",
   "execution_count": 131,
   "metadata": {},
   "outputs": [],
   "source": [
    "#Changing format of the dataset to pass to the library Apriori and FPGrowth function\n",
    "trans_df = retail_df.groupby('InvoiceNo')['Description'].apply(list)\n",
    "trans_list = trans_df.to_list()"
   ]
  },
  {
   "cell_type": "code",
   "execution_count": 132,
   "metadata": {},
   "outputs": [],
   "source": [
    "te = TransactionEncoder()\n",
    "te_ary = te.fit(trans_list).transform(trans_list)\n",
    "df = pd.DataFrame(te_ary, columns=te.columns_)"
   ]
  },
  {
   "cell_type": "code",
   "execution_count": 143,
   "metadata": {},
   "outputs": [],
   "source": [
    "min_support = [0.1,0.05,0.02,0.01]\n",
    "time_fp =  {0.1:0,0.05:0, 0.02:0, 0.01:0}\n",
    "freq_is = {0.1:0,0.05:0, 0.02:0, 0.01:0}\n",
    "freq_is1 = {0.1:0,0.05:0, 0.02:0, 0.01:0}\n",
    "freq_is2 = {0.1:0,0.05:0, 0.02:0, 0.01:0}\n",
    "time_ap =  {0.1:0,0.05:0, 0.02:0, 0.01:0}"
   ]
  },
  {
   "cell_type": "code",
   "execution_count": 144,
   "metadata": {},
   "outputs": [
    {
     "name": "stdout",
     "output_type": "stream",
     "text": [
      "min support = 0.1\n",
      "total frequent itemsets of size 1 = 3\n",
      "total frequent itemsets of size more than 1 = 0\n",
      "1 secs  654657 microsecs\n",
      "min support = 0.05\n",
      "total frequent itemsets of size 1 = 33\n",
      "total frequent itemsets of size more than 1 = 0\n",
      "1 secs  781243 microsecs\n",
      "min support = 0.02\n",
      "total frequent itemsets of size 1 = 299\n",
      "total frequent itemsets of size more than 1 = 82\n",
      "5 secs  917762 microsecs\n",
      "min support = 0.01\n",
      "total frequent itemsets of size 1 = 823\n",
      "total frequent itemsets of size more than 1 = 1051\n",
      "13 secs  562868 microsecs\n"
     ]
    }
   ],
   "source": [
    "import datetime \n",
    "for i in min_support:\n",
    "    start = datetime.datetime.now()\n",
    "    frequent_itemsets = fpgrowth(df, min_support=i, use_colnames=True)\n",
    "    frequent_itemsets['length'] = frequent_itemsets['itemsets'].apply(lambda x: len(x))\n",
    "    end = datetime.datetime.now()\n",
    "    elapsed = end - start\n",
    "    print(\"min support = \"+str(i))\n",
    "    freq_is[i] = len(frequent_itemsets)\n",
    "    freq_is1[i] = sum(frequent_itemsets[\"length\"]==1)\n",
    "    freq_is2[i] = sum(frequent_itemsets[\"length\"]>1)\n",
    "    print(\"total frequent itemsets of size 1 = \"+str(freq_is1[i]))\n",
    "    print(\"total frequent itemsets of size more than 1 = \"+str(freq_is2[i]))\n",
    "    time_fp[i] = elapsed.seconds + (elapsed.microseconds / 1000000)\n",
    "    print(elapsed.seconds,\"secs \",elapsed.microseconds,\"microsecs\")"
   ]
  },
  {
   "cell_type": "code",
   "execution_count": 145,
   "metadata": {},
   "outputs": [
    {
     "data": {
      "text/plain": [
       "<matplotlib.axes._subplots.AxesSubplot at 0x14231935710>"
      ]
     },
     "execution_count": 145,
     "metadata": {},
     "output_type": "execute_result"
    },
    {
     "data": {
      "image/png": "[encoded data removed]",
      "text/plain": [
       "<Figure size 432x288 with 1 Axes>"
      ]
     },
     "metadata": {
      "needs_background": "light"
     },
     "output_type": "display_data"
    }
   ],
   "source": [
    "plt.title('Frequent item sets vs Min Support', fontsize = 15)\n",
    "plt.ylabel('Total frequent itemsets', fontsize=10)\n",
    "plt.xlabel('Min. Support values', fontsize=10)\n",
    "sns.barplot(list(freq_is.keys()), list(freq_is.values()))"
   ]
  },
  {
   "cell_type": "code",
   "execution_count": 129,
   "metadata": {},
   "outputs": [
    {
     "data": {
      "text/plain": [
       "<matplotlib.axes._subplots.AxesSubplot at 0x14236540208>"
      ]
     },
     "execution_count": 129,
     "metadata": {},
     "output_type": "execute_result"
    },
    {
     "data": {
      "image/png": "[encoded data removed]",
      "text/plain": [
       "<Figure size 432x288 with 1 Axes>"
      ]
     },
     "metadata": {
      "needs_background": "light"
     },
     "output_type": "display_data"
    }
   ],
   "source": [
    "plt.title('FP Growth performance', fontsize = 15)\n",
    "plt.ylabel('Time in secs', fontsize=10)\n",
    "plt.xlabel('Min. Support values', fontsize=10)\n",
    "sns.barplot(list(time_fp.keys()), list(time_fp.values()))"
   ]
  },
  {
   "cell_type": "markdown",
   "metadata": {},
   "source": [
    "We observe parameter min_support 0.02 or 2% of the total transactions is ideal for our tasks <br>\n",
    "Comparing the performance w.r.t. Apriori "
   ]
  },
  {
   "cell_type": "code",
   "execution_count": 128,
   "metadata": {},
   "outputs": [],
   "source": [
    "for i in min_support:\n",
    "    start = datetime.datetime.now()\n",
    "    frequent_itemsets = apriori(df, min_support=i, use_colnames=True)\n",
    "    frequent_itemsets['length'] = frequent_itemsets['itemsets'].apply(lambda x: len(x))\n",
    "    end = datetime.datetime.now()\n",
    "    elapsed = end - start\n",
    "    time_ap[i] = elapsed.seconds + (elapsed.microseconds / 1000000)"
   ]
  },
  {
   "cell_type": "code",
   "execution_count": 130,
   "metadata": {},
   "outputs": [
    {
     "data": {
      "text/plain": [
       "<matplotlib.axes._subplots.AxesSubplot at 0x14239160ac8>"
      ]
     },
     "execution_count": 130,
     "metadata": {},
     "output_type": "execute_result"
    },
    {
     "data": {
      "image/png": "[encoded data removed]",
      "text/plain": [
       "<Figure size 432x288 with 1 Axes>"
      ]
     },
     "metadata": {
      "needs_background": "light"
     },
     "output_type": "display_data"
    }
   ],
   "source": [
    "plt.title('Apriori performance', fontsize = 15)\n",
    "plt.ylabel('Time in secs', fontsize=10)\n",
    "plt.xlabel('Min. Support values', fontsize=10)\n",
    "sns.barplot(list(time_ap.keys()), list(time_ap.values()))"
   ]
  },
  {
   "cell_type": "code",
   "execution_count": 151,
   "metadata": {},
   "outputs": [],
   "source": [
    "#Selecting frequent item sets of size >=2\n",
    "frequent_itemsets2 = frequent_itemsets[frequent_itemsets[\"length\"]>=2].sort_values(by=['support'], ascending=False)"
   ]
  },
  {
   "cell_type": "code",
   "execution_count": 208,
   "metadata": {},
   "outputs": [],
   "source": [
    "Top10_s = list(frequent_itemsets2[\"support\"][0:10]*100)\n",
    "Top10_is = list(frequent_itemsets2[\"itemsets\"][0:10])\n",
    "X = [list(x) for x in Top10_is]\n",
    "Top10_is = [str(x)[2:-2] for x in X]"
   ]
  },
  {
   "cell_type": "code",
   "execution_count": 209,
   "metadata": {},
   "outputs": [
    {
     "data": {
      "text/plain": [
       "<matplotlib.axes._subplots.AxesSubplot at 0x142358f45f8>"
      ]
     },
     "execution_count": 209,
     "metadata": {},
     "output_type": "execute_result"
    },
    {
     "data": {
      "image/png": "[encoded data removed]",
      "text/plain": [
       "<Figure size 720x576 with 1 Axes>"
      ]
     },
     "metadata": {},
     "output_type": "display_data"
    }
   ],
   "source": [
    "plt.figure(figsize=(10,8))\n",
    "plt.title('Top Frequent Itemsets of size >= 2 ', fontsize = 20)\n",
    "plt.xlabel('% Support', fontsize=15)\n",
    "sns.set(font_scale=0.8)\n",
    "sns.barplot(Top10_s,Top10_is)"
   ]
  },
  {
   "cell_type": "markdown",
   "metadata": {},
   "source": [
    "We see custumers frequently buy the above items together: <br>\n",
    "***Following insights can be drawn from this analysis*** <br>\n",
    "1) **\"Jumbo Bag Red Retrospot\"** is one of the highest selling item (from high selling item chart) and also forms frequent itemsets with others. Such items can be sold on discount to drive sales of other items bought frequently with it like : \"Jumbo Storage Bad Suki\" , \"Jumbo Shopper Vintage Red Paisley\" <br>\n",
    "2) Customers buy **same types of items together**: eg: Jumbo bags of 2 types or Alarm clocks of 2 types or 2 types of teacups and saucer <br>\n",
    "3) On website **these combinations can be put closer to eachother** for customer performance and driving more sales of items which have high affinity with the other <br> \n"
   ]
  },
  {
   "cell_type": "markdown",
   "metadata": {},
   "source": [
    "<span style=\"color:red\">**Question 13:** </span> Putting your findings in the context of your goal and evaluation plan, do you consider yourself successful? Provide reasons for your success or lack thereof."
   ]
  },
  {
   "cell_type": "markdown",
   "metadata": {},
   "source": [
    "Yes. <br>\n",
    "Reasons: <br>\n",
    "1) We are able to find the frequent itemsets from this huge transaction data with small amount of time. FPGrowth takes around 13 secs. <br> \n",
    "2) These itemsets can be used for the tasks defined earlier i.e. <br>\n",
    "&emsp;a) Identifying top selling items <br>\n",
    "&emsp;b) Identifying top frequent item sets for promotional offers <br> \n",
    "&emsp;c) Online placement of products <br>\n",
    "&emsp;d) Draw insights of customer purchase patterns : same type of items bought together etc <br>"
   ]
  },
  {
   "cell_type": "markdown",
   "metadata": {},
   "source": [
    "<span style=\"color:red\">**Question 14:** </span> If you have an extra month to work on this project, what else would you do? Provide reasons."
   ]
  },
  {
   "cell_type": "markdown",
   "metadata": {},
   "source": [
    "Further tasks if given time: <br>\n",
    "1) Clean up data more(we see productID to ProductDescriptions is not 1-1 relation) <br>\n",
    "2) Compute **association rules** from these datasets: These can be used for pricing items. <br>\n",
    "3) Maximal and closed items sets for compressed storage of data <br>\n",
    "4) More plots for conveying more information <br>\n",
    "5) Deeper **analysis at a more granular level** <br>\n",
    "6) Usage of custumer data (customerID) for **custumer segmentation using clustering** to find patterns in customers<br>\n",
    "7) Finding more **customer purchase patterns** from the frequent itemsets<br>"
   ]
  },
  {
   "cell_type": "markdown",
   "metadata": {},
   "source": [
    "<span style=\"color:red\">**Question 15:** </span> Do you consider this project to be in the 'innovative category' or a 'good application' category? Provide your reason. \n"
   ]
  },
  {
   "cell_type": "markdown",
   "metadata": {},
   "source": [
    "The project is in **innovative category** in terms of application of itemsets mining concepts to solve a business question in retail. The insights drawn from the this application are relevant for implementation in the industry and are of immense business value."
   ]
  }
 ],
 "metadata": {
  "kernelspec": {
   "display_name": "Python 3",
   "language": "python",
   "name": "python3"
  },
  "language_info": {
   "codemirror_mode": {
    "name": "ipython",
    "version": 3
   },
   "file_extension": ".py",
   "mimetype": "text/x-python",
   "name": "python",
   "nbconvert_exporter": "python",
   "pygments_lexer": "ipython3",
   "version": "3.7.3"
  }
 },
 "nbformat": 4,
 "nbformat_minor": 2
}
